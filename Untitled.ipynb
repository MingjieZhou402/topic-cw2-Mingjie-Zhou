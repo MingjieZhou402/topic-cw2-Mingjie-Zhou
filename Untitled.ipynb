{
 "cells": [
  {
   "cell_type": "code",
   "execution_count": null,
   "id": "172564b9-07e9-4494-8291-459f89f20366",
   "metadata": {},
   "outputs": [],
   "source": [
    "import pandas as pd\n",
    "import seaborn as sns\n",
    "import matplotlib.pyplot as plt\n",
    "import numpy as np\n",
    "import statsmodels.api as sm\n",
    "df = pd.read_csv('synthetic_health_data.csv')\n",
    "print(df)"
   ]
  },
  {
   "cell_type": "code",
   "execution_count": null,
   "id": "56ed0721-fe34-4b41-bd3b-a3aed9369bdc",
   "metadata": {},
   "outputs": [],
   "source": [
    "df.info()"
   ]
  },
  {
   "cell_type": "code",
   "execution_count": null,
   "id": "ff564552-64ae-4d7a-9d9c-0e0ec779afe4",
   "metadata": {},
   "outputs": [],
   "source": [
    "df[df.columns].nunique()"
   ]
  },
  {
   "cell_type": "code",
   "execution_count": null,
   "id": "d087b9a5-3fee-4aa3-8f40-186ae7d316e2",
   "metadata": {},
   "outputs": [],
   "source": [
    "# Check for missing values\n",
    "df.isna().sum()"
   ]
  },
  {
   "cell_type": "code",
   "execution_count": null,
   "id": "58863eda-1914-459b-9751-9bdc86966ac9",
   "metadata": {},
   "outputs": [],
   "source": [
    "# Check for duplicates \n",
    "df.duplicated().sum()"
   ]
  },
  {
   "cell_type": "code",
   "execution_count": null,
   "id": "653dacbb-4d87-4e84-9fc7-17cf75be18f2",
   "metadata": {},
   "outputs": [],
   "source": [
    "df_cleaned = df"
   ]
  },
  {
   "cell_type": "code",
   "execution_count": null,
   "id": "d425452c-7cc6-4b54-904f-fdc121fb79dd",
   "metadata": {
    "scrolled": true
   },
   "outputs": [],
   "source": [
    "# Age should be an integer Change the data type of age to an integer\n",
    "df_cleaned['Age'] = df_cleaned['Age'].astype('int')\n",
    "df_cleaned.info()"
   ]
  },
  {
   "cell_type": "code",
   "execution_count": null,
   "id": "3ff4686d-690a-40be-a193-5328d239478e",
   "metadata": {},
   "outputs": [],
   "source": [
    "# Assuming that 'Smoking_Status' should be categorical data\n",
    "# convert it to categorical type\n",
    "df_cleaned['Smoking_Status'] = df_cleaned['Smoking_Status'].astype('category')\n",
    "df_for_analysis_encoded = pd.get_dummies(df_for_analysis, drop_first=True)"
   ]
  },
  {
   "cell_type": "code",
   "execution_count": null,
   "id": "4d64cd61-e288-47dd-b7d3-db37e236b3c1",
   "metadata": {},
   "outputs": [],
   "source": [
    "# Check a reasonable range for the 'Age' column, assuming that the age should be between 0 and 100\n",
    "df_cleaned = df_cleaned[(df_cleaned['Age'] >= 0) & (df_cleaned['Age'] <= 100)]"
   ]
  },
  {
   "cell_type": "code",
   "execution_count": null,
   "id": "999a2860-8c8f-42d2-98ba-3c647ad1f1ba",
   "metadata": {},
   "outputs": [],
   "source": [
    "# Check a reasonable range for 'BMI', assuming that BMI should be between 15 and 40\n",
    "df_cleaned = df_cleaned[(df_cleaned['BMI'] >= 15) & (df_cleaned['BMI'] <= 40)]\n"
   ]
  },
  {
   "cell_type": "code",
   "execution_count": null,
   "id": "63f98e51-49df-43cd-8dd0-7623939daca4",
   "metadata": {},
   "outputs": [],
   "source": [
    "# Check the reasonable range of 'Sleep_Hours', assuming that sleep should be between 0 and 24 hours per day\n",
    "df_cleaned = df_cleaned[(df_cleaned['Sleep_Hours'] >= 0) & (df_cleaned['Sleep_Hours'] <= 24)]"
   ]
  },
  {
   "cell_type": "code",
   "execution_count": null,
   "id": "a746d3f9-eeee-4156-8372-8048b04fb8ff",
   "metadata": {},
   "outputs": [],
   "source": [
    "columns_for_analysis = ['Diet_Quality', 'Exercise_Frequency', 'Sleep_Hours', 'Smoking_Status', 'Alcohol_Consumption', 'Health_Score']\n",
    "df_for_analysis = df_cleaned[columns_for_analysis].dropna()"
   ]
  },
  {
   "cell_type": "code",
   "execution_count": null,
   "id": "f737dcbd-cfec-4a4b-8dcb-95ab8bf4fc53",
   "metadata": {},
   "outputs": [],
   "source": [
    "descriptive_stats = df_for_analysis.describe()\n",
    "print(\"Descriptive Statistics for Selected Variables (Including Smoking Status):\")\n",
    "print(descriptive_stats)"
   ]
  },
  {
   "cell_type": "code",
   "execution_count": null,
   "id": "291b630f-9b5c-4029-844c-c8fb365c30fd",
   "metadata": {},
   "outputs": [],
   "source": [
    "for column in columns_for_analysis:\n",
    "    if column != 'Smoking_Status':\n",
    "        plt.figure(figsize=(8, 5))\n",
    "        sns.histplot(df_for_analysis[column], kde=True, bins=20, edgecolor='black', alpha=0.7)\n",
    "        mean_value = df_for_analysis[column].mean()\n",
    "        plt.axvline(mean_value, color='red', linestyle='--', linewidth=2, label=f'Mean: {mean_value:.2f}')\n",
    "        plt.title(f'{column} Distribution')\n",
    "        plt.xlabel(column)\n",
    "        plt.ylabel('Frequency')\n",
    "        plt.grid(True)\n",
    "        plt.tight_layout()\n",
    "        plt.show()"
   ]
  },
  {
   "cell_type": "code",
   "execution_count": null,
   "id": "d162928d-f98e-49fc-8b8f-7eddaf16dc11",
   "metadata": {},
   "outputs": [],
   "source": [
    "correlation_matrix = df_for_analysis.corr()\n",
    "print(\"Correlation Matrix:\")\n",
    "print(correlation_matrix)"
   ]
  },
  {
   "cell_type": "code",
   "execution_count": null,
   "id": "5fff3237-ee5d-41de-8476-3d0f9f3d6a11",
   "metadata": {},
   "outputs": [],
   "source": [
    "plt.figure(figsize=(10, 8))\n",
    "sns.heatmap(correlation_matrix, annot=True, cmap='coolwarm', linewidths=0.5)\n",
    "plt.title(\"Correlation Matrix Heatmap\")\n",
    "plt.tight_layout()\n",
    "plt.show()"
   ]
  },
  {
   "cell_type": "code",
   "execution_count": null,
   "id": "e595dbb2-837d-41bf-9d87-619d7cd825cb",
   "metadata": {},
   "outputs": [],
   "source": [
    "X = df_for_analysis[['Diet_Quality', 'Exercise_Frequency', 'Sleep_Hours', 'Smoking_Status', 'Alcohol_Consumption']]\n",
    "y = df_for_analysis['Health_Score']\n",
    "X = sm.add_constant(X)\n",
    "model = sm.OLS(y, X).fit()\n",
    "print(\"Regression Analysis Summary:\")\n",
    "print(model.summary())\n",
    "print(\"R-squared:\", model.rsquared)"
   ]
  },
  {
   "cell_type": "code",
   "execution_count": null,
   "id": "350c4a7f-7b81-4d93-87a2-62729b859bb7",
   "metadata": {},
   "outputs": [],
   "source": [
    "r_squared = model.rsquared\n",
    "coefs = model.params[1:]\n",
    "plt.figure(figsize=(10, 6))\n",
    "sns.barplot(x=coefs.index, y=coefs.values, palette=\"viridis\")\n",
    "plt.title(f\"Regression Coefficients for Health Score Prediction (R² = {r_squared:.2f})\")\n",
    "plt.xlabel(\"Variables\")\n",
    "plt.ylabel(\"Coefficient Value\")\n",
    "plt.xticks(rotation=45)\n",
    "plt.grid(True)\n",
    "plt.tight_layout()\n",
    "plt.show()\n"
   ]
  },
  {
   "cell_type": "code",
   "execution_count": null,
   "id": "ad72b576-a9f3-42c2-9a44-39b6b51b6eab",
   "metadata": {},
   "outputs": [],
   "source": []
  }
 ],
 "metadata": {
  "kernelspec": {
   "display_name": "Python 3 (ipykernel)",
   "language": "python",
   "name": "python3"
  },
  "language_info": {
   "codemirror_mode": {
    "name": "ipython",
    "version": 3
   },
   "file_extension": ".py",
   "mimetype": "text/x-python",
   "name": "python",
   "nbconvert_exporter": "python",
   "pygments_lexer": "ipython3",
   "version": "3.11.5"
  }
 },
 "nbformat": 4,
 "nbformat_minor": 5
}
